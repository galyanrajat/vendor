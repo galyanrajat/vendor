{
 "cells": [
  {
   "cell_type": "code",
   "execution_count": 7,
   "id": "2b2d7e4d",
   "metadata": {},
   "outputs": [],
   "source": [
    "import pandas as pd\n",
    "import numpy as np\n",
    "import sys\n",
    "import os"
   ]
  },
  {
   "cell_type": "code",
   "execution_count": 21,
   "id": "c3f426b8",
   "metadata": {},
   "outputs": [
    {
     "name": "stderr",
     "output_type": "stream",
     "text": [
      "python-dotenv could not parse statement starting at line 3\n"
     ]
    },
    {
     "data": {
      "text/plain": [
       "True"
      ]
     },
     "execution_count": 21,
     "metadata": {},
     "output_type": "execute_result"
    }
   ],
   "source": [
    "from dotenv import load_dotenv\n",
    "load_dotenv()"
   ]
  },
  {
   "cell_type": "code",
   "execution_count": 3,
   "id": "b9c56f71",
   "metadata": {},
   "outputs": [],
   "source": [
    "from sqlalchemy import create_engine\n"
   ]
  },
  {
   "cell_type": "code",
   "execution_count": null,
   "id": "2dd642d0",
   "metadata": {},
   "outputs": [
    {
     "ename": "NameError",
     "evalue": "name 'DB_PORT' is not defined",
     "output_type": "error",
     "traceback": [
      "\u001b[31m---------------------------------------------------------------------------\u001b[39m",
      "\u001b[31mNameError\u001b[39m                                 Traceback (most recent call last)",
      "\u001b[36mCell\u001b[39m\u001b[36m \u001b[39m\u001b[32mIn[36]\u001b[39m\u001b[32m, line 4\u001b[39m\n\u001b[32m      2\u001b[39m password = os.getenv(\u001b[33m\"\u001b[39m\u001b[33mDB_PASSWORD\u001b[39m\u001b[33m\"\u001b[39m)\n\u001b[32m      3\u001b[39m host = os.getenv(\u001b[33m\"\u001b[39m\u001b[33mDB_HOST\u001b[39m\u001b[33m\"\u001b[39m)\n\u001b[32m----> \u001b[39m\u001b[32m4\u001b[39m port = os.getenv(\u001b[43mDB_PORT\u001b[49m)\n\u001b[32m      5\u001b[39m dbname = os.getenv(\u001b[33m\"\u001b[39m\u001b[33mDB_NAME\u001b[39m\u001b[33m\"\u001b[39m)\n",
      "\u001b[31mNameError\u001b[39m: name 'DB_PORT' is not defined"
     ]
    }
   ],
   "source": [
    "user = os.getenv(\"DB_USER\")\n",
    "password = os.getenv(\"DB_PASSWORD\")\n",
    "host = os.getenv(\"DB_HOST\")\n",
    "port = os.getenv('DB_PORT')\n",
    "dbname = os.getenv(\"DB_NAME\")"
   ]
  },
  {
   "cell_type": "code",
   "execution_count": 33,
   "id": "992fdbe0",
   "metadata": {},
   "outputs": [],
   "source": [
    "db_url = f\"postgresql://{user}:{password}@{host}:{port}/{dbname}\""
   ]
  },
  {
   "cell_type": "code",
   "execution_count": 34,
   "id": "bd29b86a",
   "metadata": {},
   "outputs": [
    {
     "ename": "ValueError",
     "evalue": "invalid literal for int() with base 10: 'None'",
     "output_type": "error",
     "traceback": [
      "\u001b[31m---------------------------------------------------------------------------\u001b[39m",
      "\u001b[31mValueError\u001b[39m                                Traceback (most recent call last)",
      "\u001b[36mCell\u001b[39m\u001b[36m \u001b[39m\u001b[32mIn[34]\u001b[39m\u001b[32m, line 2\u001b[39m\n\u001b[32m      1\u001b[39m \u001b[38;5;66;03m# Create SQLAlchemy engine\u001b[39;00m\n\u001b[32m----> \u001b[39m\u001b[32m2\u001b[39m engine = \u001b[43mcreate_engine\u001b[49m\u001b[43m(\u001b[49m\u001b[43mdb_url\u001b[49m\u001b[43m)\u001b[49m\n",
      "\u001b[36mFile \u001b[39m\u001b[32m<string>:2\u001b[39m, in \u001b[36mcreate_engine\u001b[39m\u001b[34m(url, **kwargs)\u001b[39m\n",
      "\u001b[36mFile \u001b[39m\u001b[32mf:\\projectvendor\\vendorvenv\\Lib\\site-packages\\sqlalchemy\\util\\deprecations.py:281\u001b[39m, in \u001b[36mdeprecated_params.<locals>.decorate.<locals>.warned\u001b[39m\u001b[34m(fn, *args, **kwargs)\u001b[39m\n\u001b[32m    274\u001b[39m     \u001b[38;5;28;01mif\u001b[39;00m m \u001b[38;5;129;01min\u001b[39;00m kwargs:\n\u001b[32m    275\u001b[39m         _warn_with_version(\n\u001b[32m    276\u001b[39m             messages[m],\n\u001b[32m    277\u001b[39m             versions[m],\n\u001b[32m    278\u001b[39m             version_warnings[m],\n\u001b[32m    279\u001b[39m             stacklevel=\u001b[32m3\u001b[39m,\n\u001b[32m    280\u001b[39m         )\n\u001b[32m--> \u001b[39m\u001b[32m281\u001b[39m \u001b[38;5;28;01mreturn\u001b[39;00m \u001b[43mfn\u001b[49m\u001b[43m(\u001b[49m\u001b[43m*\u001b[49m\u001b[43margs\u001b[49m\u001b[43m,\u001b[49m\u001b[43m \u001b[49m\u001b[43m*\u001b[49m\u001b[43m*\u001b[49m\u001b[43mkwargs\u001b[49m\u001b[43m)\u001b[49m\n",
      "\u001b[36mFile \u001b[39m\u001b[32mf:\\projectvendor\\vendorvenv\\Lib\\site-packages\\sqlalchemy\\engine\\create.py:549\u001b[39m, in \u001b[36mcreate_engine\u001b[39m\u001b[34m(url, **kwargs)\u001b[39m\n\u001b[32m    546\u001b[39m kwargs.pop(\u001b[33m\"\u001b[39m\u001b[33mempty_in_strategy\u001b[39m\u001b[33m\"\u001b[39m, \u001b[38;5;28;01mNone\u001b[39;00m)\n\u001b[32m    548\u001b[39m \u001b[38;5;66;03m# create url.URL object\u001b[39;00m\n\u001b[32m--> \u001b[39m\u001b[32m549\u001b[39m u = \u001b[43m_url\u001b[49m\u001b[43m.\u001b[49m\u001b[43mmake_url\u001b[49m\u001b[43m(\u001b[49m\u001b[43murl\u001b[49m\u001b[43m)\u001b[49m\n\u001b[32m    551\u001b[39m u, plugins, kwargs = u._instantiate_plugins(kwargs)\n\u001b[32m    553\u001b[39m entrypoint = u._get_entrypoint()\n",
      "\u001b[36mFile \u001b[39m\u001b[32mf:\\projectvendor\\vendorvenv\\Lib\\site-packages\\sqlalchemy\\engine\\url.py:856\u001b[39m, in \u001b[36mmake_url\u001b[39m\u001b[34m(name_or_url)\u001b[39m\n\u001b[32m    840\u001b[39m \u001b[38;5;250m\u001b[39m\u001b[33;03m\"\"\"Given a string, produce a new URL instance.\u001b[39;00m\n\u001b[32m    841\u001b[39m \n\u001b[32m    842\u001b[39m \u001b[33;03mThe format of the URL generally follows `RFC-1738\u001b[39;00m\n\u001b[32m   (...)\u001b[39m\u001b[32m    852\u001b[39m \n\u001b[32m    853\u001b[39m \u001b[33;03m\"\"\"\u001b[39;00m\n\u001b[32m    855\u001b[39m \u001b[38;5;28;01mif\u001b[39;00m \u001b[38;5;28misinstance\u001b[39m(name_or_url, \u001b[38;5;28mstr\u001b[39m):\n\u001b[32m--> \u001b[39m\u001b[32m856\u001b[39m     \u001b[38;5;28;01mreturn\u001b[39;00m \u001b[43m_parse_url\u001b[49m\u001b[43m(\u001b[49m\u001b[43mname_or_url\u001b[49m\u001b[43m)\u001b[49m\n\u001b[32m    857\u001b[39m \u001b[38;5;28;01melif\u001b[39;00m \u001b[38;5;129;01mnot\u001b[39;00m \u001b[38;5;28misinstance\u001b[39m(name_or_url, URL) \u001b[38;5;129;01mand\u001b[39;00m \u001b[38;5;129;01mnot\u001b[39;00m \u001b[38;5;28mhasattr\u001b[39m(\n\u001b[32m    858\u001b[39m     name_or_url, \u001b[33m\"\u001b[39m\u001b[33m_sqla_is_testing_if_this_is_a_mock_object\u001b[39m\u001b[33m\"\u001b[39m\n\u001b[32m    859\u001b[39m ):\n\u001b[32m    860\u001b[39m     \u001b[38;5;28;01mraise\u001b[39;00m exc.ArgumentError(\n\u001b[32m    861\u001b[39m         \u001b[33mf\u001b[39m\u001b[33m\"\u001b[39m\u001b[33mExpected string or URL object, got \u001b[39m\u001b[38;5;132;01m{\u001b[39;00mname_or_url\u001b[38;5;132;01m!r}\u001b[39;00m\u001b[33m\"\u001b[39m\n\u001b[32m    862\u001b[39m     )\n",
      "\u001b[36mFile \u001b[39m\u001b[32mf:\\projectvendor\\vendorvenv\\Lib\\site-packages\\sqlalchemy\\engine\\url.py:917\u001b[39m, in \u001b[36m_parse_url\u001b[39m\u001b[34m(name)\u001b[39m\n\u001b[32m    914\u001b[39m     name = components.pop(\u001b[33m\"\u001b[39m\u001b[33mname\u001b[39m\u001b[33m\"\u001b[39m)\n\u001b[32m    916\u001b[39m     \u001b[38;5;28;01mif\u001b[39;00m components[\u001b[33m\"\u001b[39m\u001b[33mport\u001b[39m\u001b[33m\"\u001b[39m]:\n\u001b[32m--> \u001b[39m\u001b[32m917\u001b[39m         components[\u001b[33m\"\u001b[39m\u001b[33mport\u001b[39m\u001b[33m\"\u001b[39m] = \u001b[38;5;28;43mint\u001b[39;49m\u001b[43m(\u001b[49m\u001b[43mcomponents\u001b[49m\u001b[43m[\u001b[49m\u001b[33;43m\"\u001b[39;49m\u001b[33;43mport\u001b[39;49m\u001b[33;43m\"\u001b[39;49m\u001b[43m]\u001b[49m\u001b[43m)\u001b[49m\n\u001b[32m    919\u001b[39m     \u001b[38;5;28;01mreturn\u001b[39;00m URL.create(name, **components)  \u001b[38;5;66;03m# type: ignore\u001b[39;00m\n\u001b[32m    921\u001b[39m \u001b[38;5;28;01melse\u001b[39;00m:\n",
      "\u001b[31mValueError\u001b[39m: invalid literal for int() with base 10: 'None'"
     ]
    }
   ],
   "source": [
    "# Create SQLAlchemy engine\n",
    "engine = create_engine(db_url)\n"
   ]
  },
  {
   "cell_type": "code",
   "execution_count": 35,
   "id": "241c64bf",
   "metadata": {},
   "outputs": [
    {
     "name": "stdout",
     "output_type": "stream",
     "text": [
      "PORT: None\n"
     ]
    }
   ],
   "source": [
    "print(\"PORT:\", os.getenv(\"DB_PORT\"))  # Should print 5432\n"
   ]
  },
  {
   "cell_type": "code",
   "execution_count": 11,
   "id": "d183b9ff",
   "metadata": {},
   "outputs": [],
   "source": [
    "def ingest_db(df,table_name,engine):\n",
    "    df.to_sql(table_name, engine, if_exists='replace', index=False)\n",
    "    print(f\"Data ingested into table {table_name} successfully.\")"
   ]
  },
  {
   "cell_type": "code",
   "execution_count": null,
   "id": "92e45e2d",
   "metadata": {},
   "outputs": [
    {
     "name": "stdout",
     "output_type": "stream",
     "text": [
      "(206529, 9)\n",
      "(224489, 9)\n",
      "(2372474, 16)\n",
      "(12261, 9)\n",
      "(12825363, 14)\n",
      "(5543, 10)\n"
     ]
    }
   ],
   "source": [
    "for file in os.listdir(\"data\"):\n",
    "    if '.csv' in file:\n",
    "        df=pd.read_csv(f\"data/{file}\")\n",
    "        print(df.shape)\n",
    "        ingest_db(df,file[:-4],engine)"
   ]
  },
  {
   "cell_type": "code",
   "execution_count": null,
   "id": "f8e315e1",
   "metadata": {},
   "outputs": [],
   "source": [
    "# Replace these with your actual database credentials\n",
    "username = 'username'\n",
    "password = 'your_password'\n",
    "host = 'localhost'  # or your remote host\n",
    "port = '5432'       # default PostgreSQL port\n",
    "database = 'your_database_name'\n",
    "\n",
    "# Create the engine\n",
    "engine = create_engine(f'postgresql://{username}:{password}@{host}:{port}/{database}')\n"
   ]
  }
 ],
 "metadata": {
  "kernelspec": {
   "display_name": "Python 3",
   "language": "python",
   "name": "python3"
  },
  "language_info": {
   "codemirror_mode": {
    "name": "ipython",
    "version": 3
   },
   "file_extension": ".py",
   "mimetype": "text/x-python",
   "name": "python",
   "nbconvert_exporter": "python",
   "pygments_lexer": "ipython3",
   "version": "3.12.11"
  }
 },
 "nbformat": 4,
 "nbformat_minor": 5
}
